{
 "cells": [
  {
   "cell_type": "markdown",
   "metadata": {},
   "source": [
    "# ML and AWS practical"
   ]
  },
  {
   "cell_type": "markdown",
   "metadata": {},
   "source": [
    "## Logging in and the console\n",
    "\n",
    "## Creating EC2 instances\n",
    "\n",
    "### Background\n",
    "- Key pairs.\n",
    "- “Instances” (trade off speed vs time?)\n",
    "- Spec (GPUs? CPU credits)\n",
    "- Vendor\n",
    "- Software? Images.\n",
    "- Pricing (spot, on-demand, etc)\n",
    "- Storage types (specialist: HDFS = Hadoop Distributed File System)\n",
    "- Communication\n",
    "- Security\n",
    "\n",
    "### Activity:\n",
    "- Instantiate, choices.\n",
    "- Connect to instance\n",
    "\n",
    "## EMR\n",
    "\n",
    "- copy roughly from https://aws.amazon.com/blogs/big-data/building-a-recommendation-engine-with-spark-ml-on-amazon-emr-using-zeppelin/\n",
    "(just spark, hadoop)\n",
    "\n"
   ]
  },
  {
   "cell_type": "code",
   "execution_count": null,
   "metadata": {},
   "outputs": [],
   "source": []
  }
 ],
 "metadata": {
  "kernelspec": {
   "display_name": "Python 3",
   "language": "python",
   "name": "python3"
  },
  "language_info": {
   "codemirror_mode": {
    "name": "ipython",
    "version": 3
   },
   "file_extension": ".py",
   "mimetype": "text/x-python",
   "name": "python",
   "nbconvert_exporter": "python",
   "pygments_lexer": "ipython3",
   "version": "3.6.8"
  }
 },
 "nbformat": 4,
 "nbformat_minor": 2
}
